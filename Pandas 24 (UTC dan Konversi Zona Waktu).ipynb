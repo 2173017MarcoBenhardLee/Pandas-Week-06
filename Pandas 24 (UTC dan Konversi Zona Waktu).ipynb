{
 "cells": [
  {
   "cell_type": "code",
   "execution_count": 1,
   "id": "7eb1aefa",
   "metadata": {},
   "outputs": [
    {
     "name": "stdout",
     "output_type": "stream",
     "text": [
      "1.3.4\n"
     ]
    }
   ],
   "source": [
    "import pandas as pd\n",
    "\n",
    "print(pd.__version__)"
   ]
  },
  {
   "cell_type": "markdown",
   "id": "8a2de83d",
   "metadata": {},
   "source": [
    "Persiapan Series\n",
    "\n",
    "[Epoch/Unix Time](https://en.wikipedia.org/wiki/Unix_time)\n",
    "[Epoch Time Converter](https://www.epochconverter.com/)"
   ]
  },
  {
   "cell_type": "code",
   "execution_count": 8,
   "id": "59da34f9",
   "metadata": {},
   "outputs": [
    {
     "data": {
      "text/plain": [
       "0   2020-06-09 06:18:41\n",
       "1   2020-06-09 07:18:41\n",
       "2   2020-06-09 08:18:41\n",
       "3   2020-06-09 09:18:41\n",
       "4   2020-06-09 10:18:41\n",
       "dtype: datetime64[ns]"
      ]
     },
     "execution_count": 8,
     "metadata": {},
     "output_type": "execute_result"
    }
   ],
   "source": [
    "s = pd.Series(range(1591683521, 1592201921, 3600))\n",
    "# range(nilai sekian, sampai sekian, interval dalam detik)\n",
    "s = pd.to_datetime(s, unit='s')\n",
    "# unit ='s' dalam detik\n",
    "s.head()"
   ]
  },
  {
   "cell_type": "markdown",
   "id": "7096695f",
   "metadata": {},
   "source": [
    "Pengaturan zona waktu (time zone)"
   ]
  },
  {
   "cell_type": "code",
   "execution_count": 9,
   "id": "d99ca43e",
   "metadata": {},
   "outputs": [
    {
     "data": {
      "text/plain": [
       "0   2020-06-09 06:18:41+00:00\n",
       "1   2020-06-09 07:18:41+00:00\n",
       "2   2020-06-09 08:18:41+00:00\n",
       "3   2020-06-09 09:18:41+00:00\n",
       "4   2020-06-09 10:18:41+00:00\n",
       "dtype: datetime64[ns, UTC]"
      ]
     },
     "execution_count": 9,
     "metadata": {},
     "output_type": "execute_result"
    }
   ],
   "source": [
    "s = s.dt.tz_localize('UTC')\n",
    "s.head()"
   ]
  },
  {
   "cell_type": "code",
   "execution_count": 13,
   "id": "dd7890ed",
   "metadata": {},
   "outputs": [
    {
     "data": {
      "text/plain": [
       "0   2020-06-09 13:18:41+07:00\n",
       "1   2020-06-09 14:18:41+07:00\n",
       "2   2020-06-09 15:18:41+07:00\n",
       "3   2020-06-09 16:18:41+07:00\n",
       "4   2020-06-09 17:18:41+07:00\n",
       "dtype: datetime64[ns, Asia/Jakarta]"
      ]
     },
     "execution_count": 13,
     "metadata": {},
     "output_type": "execute_result"
    }
   ],
   "source": [
    "s = s.dt.tz_convert('Asia/Jakarta')\n",
    "s.head()"
   ]
  },
  {
   "cell_type": "code",
   "execution_count": 15,
   "id": "fb2540b1",
   "metadata": {},
   "outputs": [
    {
     "data": {
      "text/plain": [
       "0   2020-06-09 16:18:41+10:00\n",
       "1   2020-06-09 17:18:41+10:00\n",
       "2   2020-06-09 18:18:41+10:00\n",
       "3   2020-06-09 19:18:41+10:00\n",
       "4   2020-06-09 20:18:41+10:00\n",
       "dtype: datetime64[ns, Australia/Hobart]"
      ]
     },
     "execution_count": 15,
     "metadata": {},
     "output_type": "execute_result"
    }
   ],
   "source": [
    "s = s.dt.tz_convert('Australia/Hobart')\n",
    "s.head()"
   ]
  }
 ],
 "metadata": {
  "kernelspec": {
   "display_name": "Python 3 (ipykernel)",
   "language": "python",
   "name": "python3"
  },
  "language_info": {
   "codemirror_mode": {
    "name": "ipython",
    "version": 3
   },
   "file_extension": ".py",
   "mimetype": "text/x-python",
   "name": "python",
   "nbconvert_exporter": "python",
   "pygments_lexer": "ipython3",
   "version": "3.9.7"
  }
 },
 "nbformat": 4,
 "nbformat_minor": 5
}
